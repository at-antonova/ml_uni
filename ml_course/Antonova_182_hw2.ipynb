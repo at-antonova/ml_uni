{
 "cells": [
  {
   "cell_type": "markdown",
   "metadata": {},
   "source": [
    "# HSE 2021: Mathematical Methods for Data Analysis\n",
    "\n",
    "## Homework 2"
   ]
  },
  {
   "cell_type": "code",
   "execution_count": 1,
   "metadata": {
    "ExecuteTime": {
     "end_time": "2020-09-26T16:48:20.566549Z",
     "start_time": "2020-09-26T16:48:19.893995Z"
    }
   },
   "outputs": [],
   "source": [
    "import pandas as pd\n",
    "import numpy as np\n",
    "import matplotlib.pyplot as plt\n",
    "import seaborn as sns\n",
    "import sklearn\n",
    "from sklearn import datasets\n",
    "from sklearn.datasets import load_boston\n",
    "\n",
    "%matplotlib inline\n",
    "\n",
    "sns.set(style=\"whitegrid\")"
   ]
  },
  {
   "cell_type": "markdown",
   "metadata": {},
   "source": [
    "### Data\n",
    "\n",
    "For this homework we use Boston Dataset from sklearn (based on UCI ML housing dataset)."
   ]
  },
  {
   "cell_type": "code",
   "execution_count": 2,
   "metadata": {},
   "outputs": [],
   "source": [
    "data = load_boston() # load dataset\n",
    "\n",
    "X = data.data\n",
    "y = data.target\n",
    "columns = data.feature_names"
   ]
  },
  {
   "cell_type": "markdown",
   "metadata": {},
   "source": [
    "## Linear regression"
   ]
  },
  {
   "cell_type": "markdown",
   "metadata": {},
   "source": [
    "#### 1. [0.5 points] Create Pandas DataFrame and split the data into train and test sets with ratio 80:20 with random_state=0."
   ]
  },
  {
   "cell_type": "code",
   "execution_count": 3,
   "metadata": {},
   "outputs": [
    {
     "data": {
      "text/html": [
       "<div>\n",
       "<style scoped>\n",
       "    .dataframe tbody tr th:only-of-type {\n",
       "        vertical-align: middle;\n",
       "    }\n",
       "\n",
       "    .dataframe tbody tr th {\n",
       "        vertical-align: top;\n",
       "    }\n",
       "\n",
       "    .dataframe thead th {\n",
       "        text-align: right;\n",
       "    }\n",
       "</style>\n",
       "<table border=\"1\" class=\"dataframe\">\n",
       "  <thead>\n",
       "    <tr style=\"text-align: right;\">\n",
       "      <th></th>\n",
       "      <th>CRIM</th>\n",
       "      <th>ZN</th>\n",
       "      <th>INDUS</th>\n",
       "      <th>CHAS</th>\n",
       "      <th>NOX</th>\n",
       "      <th>RM</th>\n",
       "      <th>AGE</th>\n",
       "      <th>DIS</th>\n",
       "      <th>RAD</th>\n",
       "      <th>TAX</th>\n",
       "      <th>PTRATIO</th>\n",
       "      <th>B</th>\n",
       "      <th>LSTAT</th>\n",
       "      <th>MEDV</th>\n",
       "    </tr>\n",
       "  </thead>\n",
       "  <tbody>\n",
       "    <tr>\n",
       "      <th>0</th>\n",
       "      <td>0.00632</td>\n",
       "      <td>18.0</td>\n",
       "      <td>2.31</td>\n",
       "      <td>0.0</td>\n",
       "      <td>0.538</td>\n",
       "      <td>6.575</td>\n",
       "      <td>65.2</td>\n",
       "      <td>4.0900</td>\n",
       "      <td>1.0</td>\n",
       "      <td>296.0</td>\n",
       "      <td>15.3</td>\n",
       "      <td>396.90</td>\n",
       "      <td>4.98</td>\n",
       "      <td>24.0</td>\n",
       "    </tr>\n",
       "    <tr>\n",
       "      <th>1</th>\n",
       "      <td>0.02731</td>\n",
       "      <td>0.0</td>\n",
       "      <td>7.07</td>\n",
       "      <td>0.0</td>\n",
       "      <td>0.469</td>\n",
       "      <td>6.421</td>\n",
       "      <td>78.9</td>\n",
       "      <td>4.9671</td>\n",
       "      <td>2.0</td>\n",
       "      <td>242.0</td>\n",
       "      <td>17.8</td>\n",
       "      <td>396.90</td>\n",
       "      <td>9.14</td>\n",
       "      <td>21.6</td>\n",
       "    </tr>\n",
       "    <tr>\n",
       "      <th>2</th>\n",
       "      <td>0.02729</td>\n",
       "      <td>0.0</td>\n",
       "      <td>7.07</td>\n",
       "      <td>0.0</td>\n",
       "      <td>0.469</td>\n",
       "      <td>7.185</td>\n",
       "      <td>61.1</td>\n",
       "      <td>4.9671</td>\n",
       "      <td>2.0</td>\n",
       "      <td>242.0</td>\n",
       "      <td>17.8</td>\n",
       "      <td>392.83</td>\n",
       "      <td>4.03</td>\n",
       "      <td>34.7</td>\n",
       "    </tr>\n",
       "    <tr>\n",
       "      <th>3</th>\n",
       "      <td>0.03237</td>\n",
       "      <td>0.0</td>\n",
       "      <td>2.18</td>\n",
       "      <td>0.0</td>\n",
       "      <td>0.458</td>\n",
       "      <td>6.998</td>\n",
       "      <td>45.8</td>\n",
       "      <td>6.0622</td>\n",
       "      <td>3.0</td>\n",
       "      <td>222.0</td>\n",
       "      <td>18.7</td>\n",
       "      <td>394.63</td>\n",
       "      <td>2.94</td>\n",
       "      <td>33.4</td>\n",
       "    </tr>\n",
       "    <tr>\n",
       "      <th>4</th>\n",
       "      <td>0.06905</td>\n",
       "      <td>0.0</td>\n",
       "      <td>2.18</td>\n",
       "      <td>0.0</td>\n",
       "      <td>0.458</td>\n",
       "      <td>7.147</td>\n",
       "      <td>54.2</td>\n",
       "      <td>6.0622</td>\n",
       "      <td>3.0</td>\n",
       "      <td>222.0</td>\n",
       "      <td>18.7</td>\n",
       "      <td>396.90</td>\n",
       "      <td>5.33</td>\n",
       "      <td>36.2</td>\n",
       "    </tr>\n",
       "  </tbody>\n",
       "</table>\n",
       "</div>"
      ],
      "text/plain": [
       "      CRIM    ZN  INDUS  CHAS    NOX     RM   AGE     DIS  RAD    TAX  \\\n",
       "0  0.00632  18.0   2.31   0.0  0.538  6.575  65.2  4.0900  1.0  296.0   \n",
       "1  0.02731   0.0   7.07   0.0  0.469  6.421  78.9  4.9671  2.0  242.0   \n",
       "2  0.02729   0.0   7.07   0.0  0.469  7.185  61.1  4.9671  2.0  242.0   \n",
       "3  0.03237   0.0   2.18   0.0  0.458  6.998  45.8  6.0622  3.0  222.0   \n",
       "4  0.06905   0.0   2.18   0.0  0.458  7.147  54.2  6.0622  3.0  222.0   \n",
       "\n",
       "   PTRATIO       B  LSTAT  MEDV  \n",
       "0     15.3  396.90   4.98  24.0  \n",
       "1     17.8  396.90   9.14  21.6  \n",
       "2     17.8  392.83   4.03  34.7  \n",
       "3     18.7  394.63   2.94  33.4  \n",
       "4     18.7  396.90   5.33  36.2  "
      ]
     },
     "execution_count": 3,
     "metadata": {},
     "output_type": "execute_result"
    }
   ],
   "source": [
    "boston_df = pd.DataFrame(data=data.data, columns=data.feature_names)\n",
    "boston_df['MEDV'] = data.target # adding taget value to DF\n",
    "boston_df.head()"
   ]
  },
  {
   "cell_type": "markdown",
   "metadata": {},
   "source": [
    "**Data Set Characteristics:**  \n",
    "\n",
    "Number of Instances: 506 \n",
    "\n",
    "Number of Attributes: 13 numeric/categorical predictive. Median Value (attribute 14) is usually the target.\n",
    "\n",
    "Attribute Information (in order):\n",
    "- CRIM     per capita crime rate by town        \n",
    "- ZN       proportion of residential land zoned for lots over 25,000 sq.ft.\n",
    "- INDUS    proportion of non-retail business acres per town        \n",
    "- CHAS     Charles River dummy variable (= 1 if tract bounds river; 0 otherwise)\n",
    "- NOX      nitric oxides concentration (parts per 10 million)\n",
    "- RM       average number of rooms per dwelling\n",
    "- AGE      proportion of owner-occupied units built prior to 1940\n",
    "- DIS      weighted distances to five Boston employment centres\n",
    "- RAD      index of accessibility to radial highways\n",
    "- TAX      full-value property-tax rate per dlr 10,000 \n",
    "- PTRATIO  pupil-teacher ratio by town        \n",
    "- B        1000(Bk - 0.63)^2 where Bk is the proportion of blacks by town\n",
    "- LSTAT    % lower status of the population\n",
    "- MEDV     Median value of owner-occupied homes in dlr 1000's\n",
    "\n",
    "(got from data.DESCR)"
   ]
  },
  {
   "cell_type": "code",
   "execution_count": 4,
   "metadata": {},
   "outputs": [
    {
     "data": {
      "text/html": [
       "<div>\n",
       "<style scoped>\n",
       "    .dataframe tbody tr th:only-of-type {\n",
       "        vertical-align: middle;\n",
       "    }\n",
       "\n",
       "    .dataframe tbody tr th {\n",
       "        vertical-align: top;\n",
       "    }\n",
       "\n",
       "    .dataframe thead th {\n",
       "        text-align: right;\n",
       "    }\n",
       "</style>\n",
       "<table border=\"1\" class=\"dataframe\">\n",
       "  <thead>\n",
       "    <tr style=\"text-align: right;\">\n",
       "      <th></th>\n",
       "      <th>CRIM</th>\n",
       "      <th>ZN</th>\n",
       "      <th>INDUS</th>\n",
       "      <th>CHAS</th>\n",
       "      <th>NOX</th>\n",
       "      <th>RM</th>\n",
       "      <th>AGE</th>\n",
       "      <th>DIS</th>\n",
       "      <th>RAD</th>\n",
       "      <th>TAX</th>\n",
       "      <th>PTRATIO</th>\n",
       "      <th>B</th>\n",
       "      <th>LSTAT</th>\n",
       "      <th>MEDV</th>\n",
       "    </tr>\n",
       "  </thead>\n",
       "  <tbody>\n",
       "    <tr>\n",
       "      <th>count</th>\n",
       "      <td>506.000000</td>\n",
       "      <td>506.000000</td>\n",
       "      <td>506.000000</td>\n",
       "      <td>506.000000</td>\n",
       "      <td>506.000000</td>\n",
       "      <td>506.000000</td>\n",
       "      <td>506.000000</td>\n",
       "      <td>506.000000</td>\n",
       "      <td>506.000000</td>\n",
       "      <td>506.000000</td>\n",
       "      <td>506.000000</td>\n",
       "      <td>506.000000</td>\n",
       "      <td>506.000000</td>\n",
       "      <td>506.000000</td>\n",
       "    </tr>\n",
       "    <tr>\n",
       "      <th>mean</th>\n",
       "      <td>3.613524</td>\n",
       "      <td>11.363636</td>\n",
       "      <td>11.136779</td>\n",
       "      <td>0.069170</td>\n",
       "      <td>0.554695</td>\n",
       "      <td>6.284634</td>\n",
       "      <td>68.574901</td>\n",
       "      <td>3.795043</td>\n",
       "      <td>9.549407</td>\n",
       "      <td>408.237154</td>\n",
       "      <td>18.455534</td>\n",
       "      <td>356.674032</td>\n",
       "      <td>12.653063</td>\n",
       "      <td>22.532806</td>\n",
       "    </tr>\n",
       "    <tr>\n",
       "      <th>std</th>\n",
       "      <td>8.601545</td>\n",
       "      <td>23.322453</td>\n",
       "      <td>6.860353</td>\n",
       "      <td>0.253994</td>\n",
       "      <td>0.115878</td>\n",
       "      <td>0.702617</td>\n",
       "      <td>28.148861</td>\n",
       "      <td>2.105710</td>\n",
       "      <td>8.707259</td>\n",
       "      <td>168.537116</td>\n",
       "      <td>2.164946</td>\n",
       "      <td>91.294864</td>\n",
       "      <td>7.141062</td>\n",
       "      <td>9.197104</td>\n",
       "    </tr>\n",
       "    <tr>\n",
       "      <th>min</th>\n",
       "      <td>0.006320</td>\n",
       "      <td>0.000000</td>\n",
       "      <td>0.460000</td>\n",
       "      <td>0.000000</td>\n",
       "      <td>0.385000</td>\n",
       "      <td>3.561000</td>\n",
       "      <td>2.900000</td>\n",
       "      <td>1.129600</td>\n",
       "      <td>1.000000</td>\n",
       "      <td>187.000000</td>\n",
       "      <td>12.600000</td>\n",
       "      <td>0.320000</td>\n",
       "      <td>1.730000</td>\n",
       "      <td>5.000000</td>\n",
       "    </tr>\n",
       "    <tr>\n",
       "      <th>25%</th>\n",
       "      <td>0.082045</td>\n",
       "      <td>0.000000</td>\n",
       "      <td>5.190000</td>\n",
       "      <td>0.000000</td>\n",
       "      <td>0.449000</td>\n",
       "      <td>5.885500</td>\n",
       "      <td>45.025000</td>\n",
       "      <td>2.100175</td>\n",
       "      <td>4.000000</td>\n",
       "      <td>279.000000</td>\n",
       "      <td>17.400000</td>\n",
       "      <td>375.377500</td>\n",
       "      <td>6.950000</td>\n",
       "      <td>17.025000</td>\n",
       "    </tr>\n",
       "    <tr>\n",
       "      <th>50%</th>\n",
       "      <td>0.256510</td>\n",
       "      <td>0.000000</td>\n",
       "      <td>9.690000</td>\n",
       "      <td>0.000000</td>\n",
       "      <td>0.538000</td>\n",
       "      <td>6.208500</td>\n",
       "      <td>77.500000</td>\n",
       "      <td>3.207450</td>\n",
       "      <td>5.000000</td>\n",
       "      <td>330.000000</td>\n",
       "      <td>19.050000</td>\n",
       "      <td>391.440000</td>\n",
       "      <td>11.360000</td>\n",
       "      <td>21.200000</td>\n",
       "    </tr>\n",
       "    <tr>\n",
       "      <th>75%</th>\n",
       "      <td>3.677083</td>\n",
       "      <td>12.500000</td>\n",
       "      <td>18.100000</td>\n",
       "      <td>0.000000</td>\n",
       "      <td>0.624000</td>\n",
       "      <td>6.623500</td>\n",
       "      <td>94.075000</td>\n",
       "      <td>5.188425</td>\n",
       "      <td>24.000000</td>\n",
       "      <td>666.000000</td>\n",
       "      <td>20.200000</td>\n",
       "      <td>396.225000</td>\n",
       "      <td>16.955000</td>\n",
       "      <td>25.000000</td>\n",
       "    </tr>\n",
       "    <tr>\n",
       "      <th>max</th>\n",
       "      <td>88.976200</td>\n",
       "      <td>100.000000</td>\n",
       "      <td>27.740000</td>\n",
       "      <td>1.000000</td>\n",
       "      <td>0.871000</td>\n",
       "      <td>8.780000</td>\n",
       "      <td>100.000000</td>\n",
       "      <td>12.126500</td>\n",
       "      <td>24.000000</td>\n",
       "      <td>711.000000</td>\n",
       "      <td>22.000000</td>\n",
       "      <td>396.900000</td>\n",
       "      <td>37.970000</td>\n",
       "      <td>50.000000</td>\n",
       "    </tr>\n",
       "  </tbody>\n",
       "</table>\n",
       "</div>"
      ],
      "text/plain": [
       "             CRIM          ZN       INDUS        CHAS         NOX          RM  \\\n",
       "count  506.000000  506.000000  506.000000  506.000000  506.000000  506.000000   \n",
       "mean     3.613524   11.363636   11.136779    0.069170    0.554695    6.284634   \n",
       "std      8.601545   23.322453    6.860353    0.253994    0.115878    0.702617   \n",
       "min      0.006320    0.000000    0.460000    0.000000    0.385000    3.561000   \n",
       "25%      0.082045    0.000000    5.190000    0.000000    0.449000    5.885500   \n",
       "50%      0.256510    0.000000    9.690000    0.000000    0.538000    6.208500   \n",
       "75%      3.677083   12.500000   18.100000    0.000000    0.624000    6.623500   \n",
       "max     88.976200  100.000000   27.740000    1.000000    0.871000    8.780000   \n",
       "\n",
       "              AGE         DIS         RAD         TAX     PTRATIO           B  \\\n",
       "count  506.000000  506.000000  506.000000  506.000000  506.000000  506.000000   \n",
       "mean    68.574901    3.795043    9.549407  408.237154   18.455534  356.674032   \n",
       "std     28.148861    2.105710    8.707259  168.537116    2.164946   91.294864   \n",
       "min      2.900000    1.129600    1.000000  187.000000   12.600000    0.320000   \n",
       "25%     45.025000    2.100175    4.000000  279.000000   17.400000  375.377500   \n",
       "50%     77.500000    3.207450    5.000000  330.000000   19.050000  391.440000   \n",
       "75%     94.075000    5.188425   24.000000  666.000000   20.200000  396.225000   \n",
       "max    100.000000   12.126500   24.000000  711.000000   22.000000  396.900000   \n",
       "\n",
       "            LSTAT        MEDV  \n",
       "count  506.000000  506.000000  \n",
       "mean    12.653063   22.532806  \n",
       "std      7.141062    9.197104  \n",
       "min      1.730000    5.000000  \n",
       "25%      6.950000   17.025000  \n",
       "50%     11.360000   21.200000  \n",
       "75%     16.955000   25.000000  \n",
       "max     37.970000   50.000000  "
      ]
     },
     "execution_count": 4,
     "metadata": {},
     "output_type": "execute_result"
    }
   ],
   "source": [
    "boston_df.describe()"
   ]
  },
  {
   "cell_type": "markdown",
   "metadata": {},
   "source": [
    "Total features - 13, MEDV - target value\n",
    "\n",
    "All rows are not empty, no significant outliers"
   ]
  },
  {
   "cell_type": "code",
   "execution_count": 5,
   "metadata": {},
   "outputs": [],
   "source": [
    "from sklearn.model_selection import train_test_split\n",
    "\n",
    "X_train, X_test, y_train, y_test = train_test_split(boston_df.drop(['MEDV'], axis=1),\n",
    "                                                    boston_df['MEDV'],\n",
    "                                                    train_size=0.8,\n",
    "                                                    random_state=0)\n",
    "cols = X_train.columns.insert(0, 'const')"
   ]
  },
  {
   "cell_type": "code",
   "execution_count": 6,
   "metadata": {},
   "outputs": [],
   "source": [
    "from sklearn.metrics import mean_squared_error, r2_score\n",
    "\n",
    "def test_model(predict, X, y):\n",
    "    y_pred = predict(X)\n",
    "    r2 = r2_score(y, y_pred)\n",
    "    r2_adj = 1 - (1 - r2) * (len(X) - 1) / (len(X) - len(X[0]) - 1)\n",
    "    mse = mean_squared_error(y, y_pred)\n",
    "    rmse = np.sqrt(mse)\n",
    "    \n",
    "    return r2, r2_adj, mse, rmse"
   ]
  },
  {
   "cell_type": "markdown",
   "metadata": {},
   "source": [
    "#### 2. [1 point] Train models on train data using StatsModels library and apply it to the test set; use $RMSE$ and $R^2$ as the quality measure.\n",
    "\n",
    "* [`LinearRegression`](http://scikit-learn.org/stable/modules/generated/sklearn.linear_model.LinearRegression.html);\n",
    "* [`Ridge`](http://scikit-learn.org/stable/modules/generated/sklearn.linear_model.Ridge.html) with $\\alpha = 0.01$;\n",
    "* [`Lasso`](http://scikit-learn.org/stable/modules/generated/sklearn.linear_model.Lasso.html) with $\\alpha = 0.01$\n",
    "\n",
    "Don't forget to scale the data before training the models with StandardScaler!"
   ]
  },
  {
   "cell_type": "code",
   "execution_count": 7,
   "metadata": {},
   "outputs": [],
   "source": [
    "from sklearn.preprocessing import StandardScaler\n",
    "import statsmodels.api as sm\n",
    "\n",
    "scaler = StandardScaler()\n",
    "X_train_scaled = scaler.fit_transform(X_train)\n",
    "X_test_scaled = scaler.transform(X_test)\n",
    "\n",
    "X_train_scaled = sm.add_constant(X_train_scaled)\n",
    "X_test_scaled = sm.add_constant(X_test_scaled)"
   ]
  },
  {
   "cell_type": "code",
   "execution_count": 8,
   "metadata": {},
   "outputs": [],
   "source": [
    "# Simple linear regression\n",
    "model_lr = sm.OLS(y_train, X_train_scaled)\n",
    "res_lr = model_lr.fit()\n",
    "\n",
    "# with Lasso Regularization\n",
    "model_lasso = sm.OLS(y_train, X_train_scaled)\n",
    "res_lasso = model_lasso.fit_regularized(alpha=0.01, L1_wt=1)\n",
    "\n",
    "# with Ridge Regularization\n",
    "model_ridge = sm.OLS(y_train, X_train_scaled)\n",
    "res_ridge = model_ridge.fit_regularized(alpha=0.01, L1_wt=0)"
   ]
  },
  {
   "cell_type": "code",
   "execution_count": 9,
   "metadata": {},
   "outputs": [
    {
     "data": {
      "text/html": [
       "<div>\n",
       "<style scoped>\n",
       "    .dataframe tbody tr th:only-of-type {\n",
       "        vertical-align: middle;\n",
       "    }\n",
       "\n",
       "    .dataframe tbody tr th {\n",
       "        vertical-align: top;\n",
       "    }\n",
       "\n",
       "    .dataframe thead th {\n",
       "        text-align: right;\n",
       "    }\n",
       "</style>\n",
       "<table border=\"1\" class=\"dataframe\">\n",
       "  <thead>\n",
       "    <tr style=\"text-align: right;\">\n",
       "      <th></th>\n",
       "      <th>r2</th>\n",
       "      <th>r2_adj</th>\n",
       "      <th>mse</th>\n",
       "      <th>rmse</th>\n",
       "    </tr>\n",
       "  </thead>\n",
       "  <tbody>\n",
       "    <tr>\n",
       "      <th>LR</th>\n",
       "      <td>0.589222</td>\n",
       "      <td>0.523120</td>\n",
       "      <td>33.448980</td>\n",
       "      <td>5.783509</td>\n",
       "    </tr>\n",
       "    <tr>\n",
       "      <th>Lasso</th>\n",
       "      <td>0.587416</td>\n",
       "      <td>0.521023</td>\n",
       "      <td>33.596095</td>\n",
       "      <td>5.796214</td>\n",
       "    </tr>\n",
       "    <tr>\n",
       "      <th>Ridge</th>\n",
       "      <td>0.583017</td>\n",
       "      <td>0.515917</td>\n",
       "      <td>33.954257</td>\n",
       "      <td>5.827028</td>\n",
       "    </tr>\n",
       "    <tr>\n",
       "      <th>LR-train</th>\n",
       "      <td>0.773014</td>\n",
       "      <td>0.764844</td>\n",
       "      <td>19.326470</td>\n",
       "      <td>4.396188</td>\n",
       "    </tr>\n",
       "    <tr>\n",
       "      <th>Lasso-train</th>\n",
       "      <td>0.772954</td>\n",
       "      <td>0.764783</td>\n",
       "      <td>19.331511</td>\n",
       "      <td>4.396761</td>\n",
       "    </tr>\n",
       "    <tr>\n",
       "      <th>Ridge-train</th>\n",
       "      <td>0.772217</td>\n",
       "      <td>0.764019</td>\n",
       "      <td>19.394302</td>\n",
       "      <td>4.403896</td>\n",
       "    </tr>\n",
       "  </tbody>\n",
       "</table>\n",
       "</div>"
      ],
      "text/plain": [
       "                   r2    r2_adj        mse      rmse\n",
       "LR           0.589222  0.523120  33.448980  5.783509\n",
       "Lasso        0.587416  0.521023  33.596095  5.796214\n",
       "Ridge        0.583017  0.515917  33.954257  5.827028\n",
       "LR-train     0.773014  0.764844  19.326470  4.396188\n",
       "Lasso-train  0.772954  0.764783  19.331511  4.396761\n",
       "Ridge-train  0.772217  0.764019  19.394302  4.403896"
      ]
     },
     "execution_count": 9,
     "metadata": {},
     "output_type": "execute_result"
    }
   ],
   "source": [
    "qual = []\n",
    "qual.append(list(test_model(lambda X: res_lr.predict(X), X_test_scaled, y_test)))\n",
    "qual.append(list(test_model(lambda X: res_lasso.predict(X), X_test_scaled, y_test)))\n",
    "qual.append(list(test_model(lambda X: res_ridge.predict(X), X_test_scaled, y_test)))\n",
    "qual.append(list(test_model(lambda X: res_lr.predict(X), X_train_scaled, y_train)))\n",
    "qual.append(list(test_model(lambda X: res_lasso.predict(X), X_train_scaled, y_train)))\n",
    "qual.append(list(test_model(lambda X: res_ridge.predict(X), X_train_scaled, y_train)))\n",
    "quality = pd.DataFrame(qual,\n",
    "                       columns=['r2', 'r2_adj', 'mse', 'rmse'],\n",
    "                       index=['LR', 'Lasso', 'Ridge', 'LR-train', 'Lasso-train', 'Ridge-train'])\n",
    "quality"
   ]
  },
  {
   "cell_type": "code",
   "execution_count": 10,
   "metadata": {},
   "outputs": [
    {
     "data": {
      "image/png": "[encoded data removed]",
      "text/plain": [
       "<Figure size 360x1440 with 4 Axes>"
      ]
     },
     "metadata": {},
     "output_type": "display_data"
    }
   ],
   "source": [
    "fig, axs = plt.subplots(ncols=1, nrows=4, figsize=(5, 20))\n",
    "sns.barplot(y=quality.index, x=quality['r2'], ax=axs[0], label='R2')\n",
    "sns.barplot(y=quality.index, x=quality['r2_adj'], ax=axs[1], label='R2 Adjusted')\n",
    "sns.barplot(y=quality.index, x=quality['mse'], ax=axs[2], label='MSE')\n",
    "sns.barplot(y=quality.index, x=quality['rmse'], ax=axs[3], label='RMSE')\n",
    "plt.show()"
   ]
  },
  {
   "cell_type": "markdown",
   "metadata": {},
   "source": [
    "#### 3. [1 point] Explore the values of the parameters of the resulting models and compare the number of zero weights in them. Comment on the significance of the coefficients, overal model significance and other related factors from the results table"
   ]
  },
  {
   "cell_type": "code",
   "execution_count": 11,
   "metadata": {
    "scrolled": true
   },
   "outputs": [
    {
     "data": {
      "image/png": "[encoded data removed]",
      "text/plain": [
       "<Figure size 1152x360 with 3 Axes>"
      ]
     },
     "metadata": {},
     "output_type": "display_data"
    }
   ],
   "source": [
    "def plot_weights(weights, features, ax, label):\n",
    "    sorted_weights = sorted(zip(weights, features), reverse=True)\n",
    "    w = [x[0] for x in sorted_weights]\n",
    "    f = [x[1] for x in sorted_weights]\n",
    "    sns.barplot(x=w, y=f, ax=ax)\n",
    "    ax.set_title(label)\n",
    "    \n",
    "    \n",
    "fig, axs = plt.subplots(ncols=3, nrows=1, figsize=(16, 5))    \n",
    "plot_weights(res_lr.params, cols, axs[0], 'Linear Regression')\n",
    "plot_weights(res_lasso.params, cols, axs[1], 'Lasso')\n",
    "plot_weights(res_ridge.params, cols, axs[2], 'Ridge')"
   ]
  },
  {
   "cell_type": "code",
   "execution_count": 12,
   "metadata": {},
   "outputs": [
    {
     "data": {
      "image/png": "[encoded data removed]",
      "text/plain": [
       "<Figure size 1152x360 with 3 Axes>"
      ]
     },
     "metadata": {},
     "output_type": "display_data"
    }
   ],
   "source": [
    "fig, axs = plt.subplots(ncols=3, nrows=1, figsize=(16, 5))    \n",
    "plot_weights(np.abs(res_lr.params), cols, axs[0], 'Linear Regression absolute values')\n",
    "plot_weights(np.abs(res_lasso.params), cols, axs[1], 'Lasso absolute values')\n",
    "plot_weights(np.abs(res_ridge.params), cols, axs[2], 'Ridge absolute values')"
   ]
  },
  {
   "cell_type": "markdown",
   "metadata": {},
   "source": [
    "**Conclusion:**\n",
    "\n",
    "1. Constant (or bias) weight is the biggest in absolute value\n",
    "2. Strong linear dependence\n",
    "- RM (average number of rooms per dwelling), \n",
    "- RAD (index of accessibility to radial highways)\n",
    "    \n",
    "  It makes sense in real life: more rooms, more closely to radial highways -> bigger price of house\n",
    "3. Strong inverse linear dependece.\n",
    "- LSTAT (% lower status of the population), \n",
    "- DIS (weighted distances to five Boston employment centres), \n",
    "- PTRATIO (pupil-teacher ratio by town)\n",
    "\n",
    "  Also makes sense in real life: more lower status people, farther from employment centers, less schools and teachers -> smaller price"
   ]
  },
  {
   "cell_type": "markdown",
   "metadata": {},
   "source": [
    "#### 4. [1 point] Implement one of the elimination algorithms that were described in the Seminar_4 (Elimination by P-value, Forward elimination, Backward elimination), make conclusions."
   ]
  },
  {
   "cell_type": "code",
   "execution_count": 13,
   "metadata": {},
   "outputs": [
    {
     "name": "stdout",
     "output_type": "stream",
     "text": [
      "\n",
      "Significance level = 0.050\n",
      "INDUS feature was eliminated\n",
      "AGE feature was eliminated\n",
      "\n",
      "Significance level = 0.010\n",
      "INDUS feature was eliminated\n",
      "AGE feature was eliminated\n",
      "\n",
      "Significance level = 0.005\n",
      "INDUS feature was eliminated\n",
      "AGE feature was eliminated\n",
      "CHAS feature was eliminated\n",
      "\n",
      "Significance level = 0.001\n",
      "INDUS feature was eliminated\n",
      "AGE feature was eliminated\n",
      "CHAS feature was eliminated\n",
      "B feature was eliminated\n",
      "ZN feature was eliminated\n",
      "TAX feature was eliminated\n",
      "RAD feature was eliminated\n",
      "CRIM feature was eliminated\n"
     ]
    },
    {
     "data": {
      "text/html": [
       "<div>\n",
       "<style scoped>\n",
       "    .dataframe tbody tr th:only-of-type {\n",
       "        vertical-align: middle;\n",
       "    }\n",
       "\n",
       "    .dataframe tbody tr th {\n",
       "        vertical-align: top;\n",
       "    }\n",
       "\n",
       "    .dataframe thead th {\n",
       "        text-align: right;\n",
       "    }\n",
       "</style>\n",
       "<table border=\"1\" class=\"dataframe\">\n",
       "  <thead>\n",
       "    <tr style=\"text-align: right;\">\n",
       "      <th></th>\n",
       "      <th>r2</th>\n",
       "      <th>r2_adj</th>\n",
       "      <th>mse</th>\n",
       "      <th>rmse</th>\n",
       "    </tr>\n",
       "  </thead>\n",
       "  <tbody>\n",
       "    <tr>\n",
       "      <th>LR</th>\n",
       "      <td>0.589222</td>\n",
       "      <td>0.523120</td>\n",
       "      <td>33.448980</td>\n",
       "      <td>5.783509</td>\n",
       "    </tr>\n",
       "    <tr>\n",
       "      <th>Lasso</th>\n",
       "      <td>0.587416</td>\n",
       "      <td>0.521023</td>\n",
       "      <td>33.596095</td>\n",
       "      <td>5.796214</td>\n",
       "    </tr>\n",
       "    <tr>\n",
       "      <th>Ridge</th>\n",
       "      <td>0.583017</td>\n",
       "      <td>0.515917</td>\n",
       "      <td>33.954257</td>\n",
       "      <td>5.827028</td>\n",
       "    </tr>\n",
       "    <tr>\n",
       "      <th>LR-train</th>\n",
       "      <td>0.773014</td>\n",
       "      <td>0.764844</td>\n",
       "      <td>19.326470</td>\n",
       "      <td>4.396188</td>\n",
       "    </tr>\n",
       "    <tr>\n",
       "      <th>Lasso-train</th>\n",
       "      <td>0.772954</td>\n",
       "      <td>0.764783</td>\n",
       "      <td>19.331511</td>\n",
       "      <td>4.396761</td>\n",
       "    </tr>\n",
       "    <tr>\n",
       "      <th>Ridge-train</th>\n",
       "      <td>0.772217</td>\n",
       "      <td>0.764019</td>\n",
       "      <td>19.394302</td>\n",
       "      <td>4.403896</td>\n",
       "    </tr>\n",
       "    <tr>\n",
       "      <th>LR with Elimination by P-Value sl=0.050</th>\n",
       "      <td>0.589527</td>\n",
       "      <td>0.534182</td>\n",
       "      <td>33.424197</td>\n",
       "      <td>5.781366</td>\n",
       "    </tr>\n",
       "    <tr>\n",
       "      <th>LR with Elimination by P-Value sl=0.010</th>\n",
       "      <td>0.589527</td>\n",
       "      <td>0.534182</td>\n",
       "      <td>33.424197</td>\n",
       "      <td>5.781366</td>\n",
       "    </tr>\n",
       "    <tr>\n",
       "      <th>LR with Elimination by P-Value sl=0.005</th>\n",
       "      <td>0.579488</td>\n",
       "      <td>0.528092</td>\n",
       "      <td>34.241673</td>\n",
       "      <td>5.851639</td>\n",
       "    </tr>\n",
       "    <tr>\n",
       "      <th>LR with Elimination by P-Value sl=0.001</th>\n",
       "      <td>0.535251</td>\n",
       "      <td>0.505899</td>\n",
       "      <td>37.843770</td>\n",
       "      <td>6.151729</td>\n",
       "    </tr>\n",
       "  </tbody>\n",
       "</table>\n",
       "</div>"
      ],
      "text/plain": [
       "                                               r2    r2_adj        mse  \\\n",
       "LR                                       0.589222  0.523120  33.448980   \n",
       "Lasso                                    0.587416  0.521023  33.596095   \n",
       "Ridge                                    0.583017  0.515917  33.954257   \n",
       "LR-train                                 0.773014  0.764844  19.326470   \n",
       "Lasso-train                              0.772954  0.764783  19.331511   \n",
       "Ridge-train                              0.772217  0.764019  19.394302   \n",
       "LR with Elimination by P-Value sl=0.050  0.589527  0.534182  33.424197   \n",
       "LR with Elimination by P-Value sl=0.010  0.589527  0.534182  33.424197   \n",
       "LR with Elimination by P-Value sl=0.005  0.579488  0.528092  34.241673   \n",
       "LR with Elimination by P-Value sl=0.001  0.535251  0.505899  37.843770   \n",
       "\n",
       "                                             rmse  \n",
       "LR                                       5.783509  \n",
       "Lasso                                    5.796214  \n",
       "Ridge                                    5.827028  \n",
       "LR-train                                 4.396188  \n",
       "Lasso-train                              4.396761  \n",
       "Ridge-train                              4.403896  \n",
       "LR with Elimination by P-Value sl=0.050  5.781366  \n",
       "LR with Elimination by P-Value sl=0.010  5.781366  \n",
       "LR with Elimination by P-Value sl=0.005  5.851639  \n",
       "LR with Elimination by P-Value sl=0.001  6.151729  "
      ]
     },
     "execution_count": 13,
     "metadata": {},
     "output_type": "execute_result"
    }
   ],
   "source": [
    "# Linear Regression with Elimination by P-Value\n",
    "\n",
    "for significance_level in [0.05, 0.01, 0.005, 0.001]:\n",
    "    X_train_elim = X_train_scaled\n",
    "    X_test_elim = X_test_scaled\n",
    "    cls = X_train.columns.insert(0, 'const')\n",
    "    print('\\nSignificance level = {0:.3f}'.format(significance_level))\n",
    "    \n",
    "    while X_train_elim.shape[1] > 0:\n",
    "        model_elim = sm.OLS(y_train, X_train_elim)\n",
    "        res_lr_elim = model_elim.fit()\n",
    "        max_pvalue = res_lr_elim.pvalues.max()\n",
    "        if max_pvalue < significance_level: # if max pvalue is less than significance level - stop elimination\n",
    "            break\n",
    "        max_pvalue_id = res_lr_elim.pvalues.values.argmax() # index of max pvalue feature\n",
    "        X_train_elim = np.delete(X_train_elim, obj=max_pvalue_id, axis=1)\n",
    "        X_test_elim = np.delete(X_test_elim, obj=max_pvalue_id, axis=1)\n",
    "        print('{0} feature was eliminated'.format(cls[max_pvalue_id]))\n",
    "        cls = cls.delete(max_pvalue_id)\n",
    "    \n",
    "    r2, r2_adj, mse, rmse = test_model(lambda X: res_lr_elim.predict(X), X_test_elim, y_test)\n",
    "    quality.loc['LR with Elimination by P-Value sl={0:.3f}'.format(significance_level)] = [r2, r2_adj, mse, rmse]\n",
    "\n",
    "quality"
   ]
  },
  {
   "cell_type": "markdown",
   "metadata": {},
   "source": [
    "Elimination by P-value with significance level of 5%, 1%, 0.5%, 0.1% did not improve the model much in terms of R2 and RMSE quality metrics."
   ]
  },
  {
   "cell_type": "markdown",
   "metadata": {},
   "source": [
    "#### 5. [1 point] Find the best (in terms of RMSE) $\\alpha$ for Ridge regression using cross-validation with 5 folds. You must select values from range $[10^{-4}, 10^{3}]$."
   ]
  },
  {
   "cell_type": "code",
   "execution_count": 14,
   "metadata": {},
   "outputs": [
    {
     "name": "stdout",
     "output_type": "stream",
     "text": [
      "Best alpha = 6.1585\n"
     ]
    },
    {
     "data": {
      "text/plain": [
       "Text(0, 0.5, 'CV score')"
      ]
     },
     "execution_count": 14,
     "metadata": {},
     "output_type": "execute_result"
    },
    {
     "data": {
      "image/png": "[encoded data removed]",
      "text/plain": [
       "<Figure size 432x288 with 1 Axes>"
      ]
     },
     "metadata": {},
     "output_type": "display_data"
    }
   ],
   "source": [
    "from sklearn.model_selection import GridSearchCV\n",
    "from sklearn.linear_model import Ridge\n",
    "\n",
    "alphas = np.logspace(-4, 3, 20)\n",
    "\n",
    "searcher = GridSearchCV(Ridge(), [{'alpha': alphas}], scoring='neg_mean_squared_error', cv=5)\n",
    "searcher.fit(X_train_scaled, y_train)\n",
    "\n",
    "best_alpha = searcher.best_params_['alpha']\n",
    "print('Best alpha = {0:.4f}'.format(best_alpha))\n",
    "\n",
    "plt.plot(alphas, -searcher.cv_results_['mean_test_score'])\n",
    "plt.xscale('log')\n",
    "plt.xlabel('alpha')\n",
    "plt.ylabel('CV score')"
   ]
  },
  {
   "cell_type": "markdown",
   "metadata": {},
   "source": [
    "Let's look more precisely at $[10^{0}, 10^{2}]$ interval"
   ]
  },
  {
   "cell_type": "code",
   "execution_count": 15,
   "metadata": {},
   "outputs": [
    {
     "name": "stdout",
     "output_type": "stream",
     "text": [
      "Best alpha = 5.9636\n"
     ]
    },
    {
     "data": {
      "text/plain": [
       "Text(0, 0.5, 'CV score')"
      ]
     },
     "execution_count": 15,
     "metadata": {},
     "output_type": "execute_result"
    },
    {
     "data": {
      "image/png": "[encoded data removed]",
      "text/plain": [
       "<Figure size 432x288 with 1 Axes>"
      ]
     },
     "metadata": {},
     "output_type": "display_data"
    }
   ],
   "source": [
    "alphas = np.logspace(0, 2, 50)\n",
    "\n",
    "searcher = GridSearchCV(Ridge(), [{'alpha': alphas}], scoring='neg_mean_squared_error', cv=5)\n",
    "searcher.fit(X_train_scaled, y_train)\n",
    "\n",
    "best_alpha = searcher.best_params_['alpha']\n",
    "print('Best alpha = {0:.4f}'.format(best_alpha))\n",
    "\n",
    "plt.plot(alphas, -searcher.cv_results_['mean_test_score'])\n",
    "plt.xscale('log')\n",
    "plt.xlabel('alpha')\n",
    "plt.ylabel('CV score')"
   ]
  },
  {
   "cell_type": "code",
   "execution_count": 16,
   "metadata": {},
   "outputs": [
    {
     "data": {
      "text/html": [
       "<div>\n",
       "<style scoped>\n",
       "    .dataframe tbody tr th:only-of-type {\n",
       "        vertical-align: middle;\n",
       "    }\n",
       "\n",
       "    .dataframe tbody tr th {\n",
       "        vertical-align: top;\n",
       "    }\n",
       "\n",
       "    .dataframe thead th {\n",
       "        text-align: right;\n",
       "    }\n",
       "</style>\n",
       "<table border=\"1\" class=\"dataframe\">\n",
       "  <thead>\n",
       "    <tr style=\"text-align: right;\">\n",
       "      <th></th>\n",
       "      <th>r2</th>\n",
       "      <th>r2_adj</th>\n",
       "      <th>mse</th>\n",
       "      <th>rmse</th>\n",
       "    </tr>\n",
       "  </thead>\n",
       "  <tbody>\n",
       "    <tr>\n",
       "      <th>LR</th>\n",
       "      <td>0.589222</td>\n",
       "      <td>0.523120</td>\n",
       "      <td>33.448980</td>\n",
       "      <td>5.783509</td>\n",
       "    </tr>\n",
       "    <tr>\n",
       "      <th>Lasso</th>\n",
       "      <td>0.587416</td>\n",
       "      <td>0.521023</td>\n",
       "      <td>33.596095</td>\n",
       "      <td>5.796214</td>\n",
       "    </tr>\n",
       "    <tr>\n",
       "      <th>Ridge</th>\n",
       "      <td>0.583017</td>\n",
       "      <td>0.515917</td>\n",
       "      <td>33.954257</td>\n",
       "      <td>5.827028</td>\n",
       "    </tr>\n",
       "    <tr>\n",
       "      <th>LR-train</th>\n",
       "      <td>0.773014</td>\n",
       "      <td>0.764844</td>\n",
       "      <td>19.326470</td>\n",
       "      <td>4.396188</td>\n",
       "    </tr>\n",
       "    <tr>\n",
       "      <th>Lasso-train</th>\n",
       "      <td>0.772954</td>\n",
       "      <td>0.764783</td>\n",
       "      <td>19.331511</td>\n",
       "      <td>4.396761</td>\n",
       "    </tr>\n",
       "    <tr>\n",
       "      <th>Ridge-train</th>\n",
       "      <td>0.772217</td>\n",
       "      <td>0.764019</td>\n",
       "      <td>19.394302</td>\n",
       "      <td>4.403896</td>\n",
       "    </tr>\n",
       "    <tr>\n",
       "      <th>LR with Elimination by P-Value sl=0.050</th>\n",
       "      <td>0.589527</td>\n",
       "      <td>0.534182</td>\n",
       "      <td>33.424197</td>\n",
       "      <td>5.781366</td>\n",
       "    </tr>\n",
       "    <tr>\n",
       "      <th>LR with Elimination by P-Value sl=0.010</th>\n",
       "      <td>0.589527</td>\n",
       "      <td>0.534182</td>\n",
       "      <td>33.424197</td>\n",
       "      <td>5.781366</td>\n",
       "    </tr>\n",
       "    <tr>\n",
       "      <th>LR with Elimination by P-Value sl=0.005</th>\n",
       "      <td>0.579488</td>\n",
       "      <td>0.528092</td>\n",
       "      <td>34.241673</td>\n",
       "      <td>5.851639</td>\n",
       "    </tr>\n",
       "    <tr>\n",
       "      <th>LR with Elimination by P-Value sl=0.001</th>\n",
       "      <td>0.535251</td>\n",
       "      <td>0.505899</td>\n",
       "      <td>37.843770</td>\n",
       "      <td>6.151729</td>\n",
       "    </tr>\n",
       "    <tr>\n",
       "      <th>Ridge with best alpha=5.964</th>\n",
       "      <td>0.583020</td>\n",
       "      <td>0.515920</td>\n",
       "      <td>33.954036</td>\n",
       "      <td>5.827009</td>\n",
       "    </tr>\n",
       "  </tbody>\n",
       "</table>\n",
       "</div>"
      ],
      "text/plain": [
       "                                               r2    r2_adj        mse  \\\n",
       "LR                                       0.589222  0.523120  33.448980   \n",
       "Lasso                                    0.587416  0.521023  33.596095   \n",
       "Ridge                                    0.583017  0.515917  33.954257   \n",
       "LR-train                                 0.773014  0.764844  19.326470   \n",
       "Lasso-train                              0.772954  0.764783  19.331511   \n",
       "Ridge-train                              0.772217  0.764019  19.394302   \n",
       "LR with Elimination by P-Value sl=0.050  0.589527  0.534182  33.424197   \n",
       "LR with Elimination by P-Value sl=0.010  0.589527  0.534182  33.424197   \n",
       "LR with Elimination by P-Value sl=0.005  0.579488  0.528092  34.241673   \n",
       "LR with Elimination by P-Value sl=0.001  0.535251  0.505899  37.843770   \n",
       "Ridge with best alpha=5.964              0.583020  0.515920  33.954036   \n",
       "\n",
       "                                             rmse  \n",
       "LR                                       5.783509  \n",
       "Lasso                                    5.796214  \n",
       "Ridge                                    5.827028  \n",
       "LR-train                                 4.396188  \n",
       "Lasso-train                              4.396761  \n",
       "Ridge-train                              4.403896  \n",
       "LR with Elimination by P-Value sl=0.050  5.781366  \n",
       "LR with Elimination by P-Value sl=0.010  5.781366  \n",
       "LR with Elimination by P-Value sl=0.005  5.851639  \n",
       "LR with Elimination by P-Value sl=0.001  6.151729  \n",
       "Ridge with best alpha=5.964              5.827009  "
      ]
     },
     "execution_count": 16,
     "metadata": {},
     "output_type": "execute_result"
    }
   ],
   "source": [
    "model_best_alpha = Ridge(alpha=best_alpha)\n",
    "model_best_alpha.fit(X_train_scaled, y_train)\n",
    "r2, r2_adj, mse, rmse = test_model(lambda X: model_best_alpha.predict(X), X_test_scaled, y_test)\n",
    "quality.loc['Ridge with best alpha={0:.3f}'.format(best_alpha)] = [r2, r2_adj, mse, rmse]\n",
    "quality"
   ]
  },
  {
   "cell_type": "markdown",
   "metadata": {},
   "source": [
    "Gridsearch helped to find best $\\alpha$ for Ridge regression. However, it did not imrove model much in terms of R2 and RMSE scores on test dataset. "
   ]
  },
  {
   "cell_type": "markdown",
   "metadata": {},
   "source": [
    "## Gradient descent\n",
    "\n",
    "#### 6. [3.5 points] Implement a linear regression model for the MSE loss function, trained by gradient descent.\n",
    "\n",
    "All calculations must be vectorized, and python loops can only be used for gradient descent iterations. As a stop criterion, you must use (simultaneously):\n",
    "\n",
    "* checking for the Euclidean norm of the weight difference on two adjacent iterations (for example, less than some small number of the order of $10^{-6}$, set by the `tolerance` parameter);\n",
    "* reaching the maximum number of iterations (for example, 10000, set by the `max_iter` parameter).\n",
    "\n",
    "You need to implement:\n",
    "\n",
    "* Full gradient descent:\n",
    "\n",
    "$$\n",
    "w_{k + 1} = w_{k} - \\eta_{k} \\nabla_{w} Q(w_{k}).\n",
    "$$\n",
    "\n",
    "* Stochastic Gradient Descent:\n",
    "\n",
    "$$\n",
    "w_{k + 1} = w_{k} - \\eta_{k} \\nabla_{w} q_{i_{k}}(w_{k}).\n",
    "$$\n",
    "\n",
    "$\\nabla_{w} q_{i_{k}}(w_{k}) \\, $ is the estimate of the gradient over the butch of objects selected randomly.\n",
    "\n",
    "* Momentum method:\n",
    "\n",
    "$$\n",
    "h_0 = 0, \\\\\n",
    "h_{k + 1} = \\alpha h_{k} + \\eta_k \\nabla_{w} Q(w_{k}), \\\\\n",
    "w_{k + 1} = w_{k} - h_{k + 1}.\n",
    "$$\n",
    "\n",
    "\n",
    "To make sure that the optimization process really converges, we will use the `loss_history` class attribute. After calling the `fit` method, it should contain the values of the loss function for all iterations, starting from the first one (before the first step on the anti-gradient).\n",
    "\n",
    "You need to initialize the weights with a zero or random (from a normal distribution) vector. The following is a template class that needs to contain the code implementing all variations of the models."
   ]
  },
  {
   "cell_type": "code",
   "execution_count": 17,
   "metadata": {},
   "outputs": [],
   "source": [
    "from sklearn.base import BaseEstimator\n",
    "from random import sample\n",
    "\n",
    "# did not understand whether momentum shoud go with GD or SGD\n",
    "# so added gd_type 'MomentumSGD'\n",
    "# if it was meant sample, not batch in SGD - setting batch_size=1 solves problem\n",
    "\n",
    "class LinReg(BaseEstimator):\n",
    "    def __init__(self, delta=1.0, gd_type='Momentum', \n",
    "                 tolerance=1e-4, max_iter=1000, w0=None, eta=1e-2, alpha=1e-3):\n",
    "        \"\"\"\n",
    "        gd_type: 'GradientDescent', 'StochasticDescent', 'Momentum', 'MomentumSGD'\n",
    "        tolerance: for stopping gradient descent\n",
    "        max_iter: maximum number of steps in gradient descent\n",
    "        w0: np.array of shape (d) - init weights\n",
    "        eta: learning rate\n",
    "        alpha: momentum coefficient\n",
    "        \"\"\"\n",
    "        self.delta = delta # if delta was planned to be bias coefficient - it has to be in input X\n",
    "        self.gd_type = gd_type\n",
    "        self.tolerance = tolerance\n",
    "        self.max_iter = max_iter\n",
    "        self.w0 = w0\n",
    "        self.alpha = alpha\n",
    "        self.w = None\n",
    "        self.eta = eta\n",
    "        self.loss_history = None # list of loss function values at each training iteration\n",
    "        self.batch_size = 20\n",
    "    \n",
    "    def fit(self, X, y):\n",
    "        \"\"\"\n",
    "        X: np.array of shape (l, d)\n",
    "        y: np.array of shape (l)\n",
    "        ---\n",
    "        output: self\n",
    "        \"\"\"\n",
    "        \n",
    "        self.loss_history = []\n",
    "        if self.w0 == None:\n",
    "            self.w0 = np.random.randn(X.shape[1]) * 0.0001 \n",
    "        self.w = self.w0\n",
    "        dW = 0\n",
    "        \n",
    "        for _ in range(self.max_iter):\n",
    "            if self.gd_type == 'Momentum' or self.gd_type == 'MomentumSGD':\n",
    "                dW = - self.eta * self.calc_gradient(X, y) + self.alpha * dW\n",
    "            else:\n",
    "                dW = - self.eta * self.calc_gradient(X, y)\n",
    "                \n",
    "            self.w += dW\n",
    "\n",
    "            if self.euclidian_norm(dW) < self.tolerance:\n",
    "                return self\n",
    "                \n",
    "            self.loss_history.append(self.calc_loss(X, y))\n",
    "\n",
    "        return self\n",
    "    \n",
    "    def predict(self, X):\n",
    "        if self.w is None:\n",
    "            raise Exception('Not trained yet')\n",
    "        \n",
    "        return np.dot(X, self.w)\n",
    "    \n",
    "    def calc_gradient(self, X, y):\n",
    "        \"\"\"\n",
    "        X: np.array of shape (l, d) (l can be equal to 1 if stochastic)\n",
    "        y: np.array of shape (l)\n",
    "        ---\n",
    "        output: np.array of shape (d)\n",
    "        \"\"\"\n",
    "        \n",
    "        if (self.gd_type == 'GradientDescent' or self.gd_type == 'Momentum'):\n",
    "            y_pred = self.predict(X)\n",
    "            error = y - y_pred\n",
    "            grad = np.dot(-X.T, error) / X.shape[0]\n",
    "            return grad\n",
    "        elif (self.gd_type == 'StochasticDescent' or self.gd_type == 'MomentumSGD'):\n",
    "            idx = sample(range(y.shape[0]), self.batch_size)\n",
    "            X_batch = [X[i] for i in idx]\n",
    "            X_batch = np.array(X_batch)\n",
    "            y_batch = [y.iloc[i] for i in idx]\n",
    "            y_pred = self.predict(X_batch)\n",
    "            error = y_batch - y_pred\n",
    "            grad = np.dot(-X_batch.T, error) / X_batch.shape[0]\n",
    "            return grad\n",
    "        else: \n",
    "            return None\n",
    "\n",
    "    def calc_loss(self, X, y):\n",
    "        \"\"\"\n",
    "        X: np.array of shape (l, d)\n",
    "        y: np.array of shape (l)\n",
    "        ---\n",
    "        output: float \n",
    "        \"\"\" \n",
    "        y_pred = np.dot(X, self.w)\n",
    "        loss = mean_squared_error(y, y_pred)\n",
    "        \n",
    "        return loss\n",
    "    \n",
    "    def euclidian_norm(self, a):\n",
    "        return np.sqrt(np.dot(a.T, a))"
   ]
  },
  {
   "cell_type": "markdown",
   "metadata": {},
   "source": [
    "#### 7. [1 points] Train and validate \"hand-written\" models on the same data, and compare the quality with the Sklearn or StatsModels methods. Investigate the effect of the `max_iter` and `alpha` parameters on the optimization process. Is it consistent with your expectations?"
   ]
  },
  {
   "cell_type": "code",
   "execution_count": 18,
   "metadata": {},
   "outputs": [],
   "source": [
    "# just in case \n",
    "scaler = StandardScaler()\n",
    "X_train_scaled = scaler.fit_transform(X_train)\n",
    "X_test_scaled = scaler.transform(X_test)\n",
    "\n",
    "X_train_scaled = sm.add_constant(X_train_scaled)\n",
    "X_test_scaled = sm.add_constant(X_test_scaled)"
   ]
  },
  {
   "cell_type": "code",
   "execution_count": 19,
   "metadata": {},
   "outputs": [
    {
     "data": {
      "text/plain": [
       "LinReg(gd_type='MomentumSGD',\n",
       "       w0=array([22.52073497, -0.85469125,  0.77495283, -0.20712647,  0.75275156,\n",
       "       -1.37829614,  2.67715772, -0.05624859, -2.57882275,  1.17475611,\n",
       "       -0.76841204, -2.1773697 ,  0.68439958, -3.75175534]))"
      ]
     },
     "execution_count": 19,
     "metadata": {},
     "output_type": "execute_result"
    }
   ],
   "source": [
    "model_mom = LinReg(gd_type='Momentum')\n",
    "model_mom.fit(X_train_scaled, y_train)\n",
    "\n",
    "model_grad = LinReg(gd_type='GradientDescent')\n",
    "model_grad.fit(X_train_scaled, y_train)\n",
    "\n",
    "model_sgd = LinReg(gd_type='StochasticDescent')\n",
    "model_sgd.fit(X_train_scaled, y_train)\n",
    "\n",
    "model_mom_sgd = LinReg(gd_type='MomentumSGD')\n",
    "model_mom_sgd.fit(X_train_scaled, y_train)"
   ]
  },
  {
   "cell_type": "code",
   "execution_count": 20,
   "metadata": {},
   "outputs": [
    {
     "name": "stdout",
     "output_type": "stream",
     "text": [
      "Best alpha = 0.6632\n"
     ]
    },
    {
     "data": {
      "text/plain": [
       "Text(0, 0.5, 'CV score')"
      ]
     },
     "execution_count": 20,
     "metadata": {},
     "output_type": "execute_result"
    },
    {
     "data": {
      "image/png": "[encoded data removed]",
      "text/plain": [
       "<Figure size 432x288 with 1 Axes>"
      ]
     },
     "metadata": {},
     "output_type": "display_data"
    }
   ],
   "source": [
    "alphas = np.linspace(0.6, 0.7, 20)\n",
    "\n",
    "searcher = GridSearchCV(LinReg(gd_type='Momentum'), [{'alpha': alphas}], scoring='neg_mean_squared_error', cv=5)\n",
    "searcher.fit(X_train_scaled, y_train)\n",
    "\n",
    "best_alpha = searcher.best_params_['alpha']\n",
    "print('Best alpha = {0:.4f}'.format(best_alpha))\n",
    "\n",
    "plt.plot(alphas, -searcher.cv_results_['mean_test_score'])\n",
    "plt.xscale('log')\n",
    "plt.xlabel('alpha')\n",
    "plt.ylabel('CV score')"
   ]
  },
  {
   "cell_type": "code",
   "execution_count": 21,
   "metadata": {},
   "outputs": [
    {
     "name": "stdout",
     "output_type": "stream",
     "text": [
      "Best alpha = 0.0635\n"
     ]
    },
    {
     "data": {
      "text/plain": [
       "Text(0, 0.5, 'CV score')"
      ]
     },
     "execution_count": 21,
     "metadata": {},
     "output_type": "execute_result"
    },
    {
     "data": {
      "image/png": "[encoded data removed]",
      "text/plain": [
       "<Figure size 432x288 with 1 Axes>"
      ]
     },
     "metadata": {},
     "output_type": "display_data"
    }
   ],
   "source": [
    "X_train_scaled = scaler.fit_transform(X_train)\n",
    "X_test_scaled = scaler.transform(X_test)\n",
    "\n",
    "X_train_scaled = sm.add_constant(X_train_scaled)\n",
    "X_test_scaled = sm.add_constant(X_test_scaled)\n",
    "\n",
    "alphas = np.linspace(0.001, 0.1, 20)\n",
    "\n",
    "searcher = GridSearchCV(LinReg(gd_type='MomentumSGD'), [{'alpha': alphas}], scoring='neg_mean_squared_error', cv=5)\n",
    "searcher.fit(X_train_scaled, y_train)\n",
    "\n",
    "best_alpha_sgd = searcher.best_params_['alpha']\n",
    "print('Best alpha = {0:.4f}'.format(best_alpha_sgd))\n",
    "\n",
    "plt.plot(alphas, -searcher.cv_results_['mean_test_score'])\n",
    "plt.xscale('log')\n",
    "plt.xlabel('alpha')\n",
    "plt.ylabel('CV score')"
   ]
  },
  {
   "cell_type": "code",
   "execution_count": 22,
   "metadata": {},
   "outputs": [
    {
     "name": "stdout",
     "output_type": "stream",
     "text": [
      "Best alpha = 0.0659\n"
     ]
    },
    {
     "data": {
      "text/plain": [
       "Text(0, 0.5, 'CV score')"
      ]
     },
     "execution_count": 22,
     "metadata": {},
     "output_type": "execute_result"
    },
    {
     "data": {
      "image/png": "[encoded data removed]",
      "text/plain": [
       "<Figure size 432x288 with 1 Axes>"
      ]
     },
     "metadata": {},
     "output_type": "display_data"
    }
   ],
   "source": [
    "alphas = np.linspace(0.005, 0.1, 40)\n",
    "\n",
    "searcher = GridSearchCV(LinReg(gd_type='MomentumSGD'), [{'alpha': alphas}], scoring='neg_mean_squared_error', cv=5)\n",
    "searcher.fit(X_train_scaled, y_train)\n",
    "\n",
    "best_alpha_sgd = searcher.best_params_['alpha']\n",
    "print('Best alpha = {0:.4f}'.format(best_alpha_sgd))\n",
    "\n",
    "plt.plot(alphas, -searcher.cv_results_['mean_test_score'])\n",
    "plt.xscale('log')\n",
    "plt.xlabel('alpha')\n",
    "plt.ylabel('CV score')"
   ]
  },
  {
   "cell_type": "code",
   "execution_count": 24,
   "metadata": {},
   "outputs": [
    {
     "name": "stdout",
     "output_type": "stream",
     "text": [
      "Best max_iter = 1000.0000\n"
     ]
    },
    {
     "data": {
      "text/plain": [
       "Text(0, 0.5, 'CV score')"
      ]
     },
     "execution_count": 24,
     "metadata": {},
     "output_type": "execute_result"
    },
    {
     "data": {
      "image/png": "[encoded data removed]",
      "text/plain": [
       "<Figure size 432x288 with 1 Axes>"
      ]
     },
     "metadata": {},
     "output_type": "display_data"
    }
   ],
   "source": [
    "max_iters = np.linspace(10, 1000, 19)\n",
    "max_iters = list(map(lambda x: int(x), max_iters))\n",
    "\n",
    "searcher = GridSearchCV(LinReg(gd_type='Momentum'), [{'max_iter': max_iters}], scoring='neg_mean_squared_error', cv=5)\n",
    "searcher.fit(X_train_scaled, y_train)\n",
    "\n",
    "best_max_iter = searcher.best_params_['max_iter']\n",
    "print('Best max_iter = {0:.4f}'.format(best_max_iter))\n",
    "\n",
    "plt.plot(max_iters, -searcher.cv_results_['mean_test_score'])\n",
    "plt.xscale('log')\n",
    "plt.xlabel('max_iter')\n",
    "plt.ylabel('CV score')"
   ]
  },
  {
   "cell_type": "markdown",
   "metadata": {},
   "source": [
    "1. Gridsearch on full gradient best momentum value: best $\\alpha$=**0.6632**. I explored intervals $[10^{-3}, 10^{0}]$ and $[0.6, 0.7]$. Best alpha is 0.6632\n",
    "2. Gridsearch on SGD best momentum value: no visible dependence, I tried $[0.01, 0.5, 40]$, $[0.001, 0.1, 20]$, $[0.005, 0.05, 40]$, $[0.005, 0.1, 40]$ linspaces, seems like **0.0269** is one of the best values\n",
    "3. Gridsearch on best max_iter value. More iteration -> better result, which makes sense. "
   ]
  },
  {
   "cell_type": "code",
   "execution_count": 25,
   "metadata": {},
   "outputs": [],
   "source": [
    "model_mom = LinReg(gd_type='Momentum', alpha=0.6632)\n",
    "model_mom.fit(X_train_scaled, y_train)\n",
    "\n",
    "model_grad = LinReg(gd_type='GradientDescent')\n",
    "model_grad.fit(X_train_scaled, y_train)\n",
    "\n",
    "model_sgd = LinReg(gd_type='StochasticDescent')\n",
    "model_sgd.fit(X_train_scaled, y_train)\n",
    "\n",
    "model_mom_sgd = LinReg(gd_type='MomentumSGD', alpha=0.0269)\n",
    "model_mom_sgd.fit(X_train_scaled, y_train)\n",
    "\n",
    "r2, r2_adj, mse, rmse = test_model(lambda X: model_mom.predict(X), X_test_scaled, y_test)\n",
    "quality.loc['Custom FGD+Mom'] = [r2, r2_adj, mse, rmse]\n",
    "r2, r2_adj, mse, rmse = test_model(lambda X: model_grad.predict(X), X_test_scaled, y_test)\n",
    "quality.loc['Custom FGD'] = [r2, r2_adj, mse, rmse]\n",
    "r2, r2_adj, mse, rmse = test_model(lambda X: model_sgd.predict(X), X_test_scaled, y_test)\n",
    "quality.loc['Custom SGD'] = [r2, r2_adj, mse, rmse]\n",
    "r2, r2_adj, mse, rmse = test_model(lambda X: model_mom_sgd.predict(X), X_test_scaled, y_test)\n",
    "quality.loc['Custom SGD+Mom'] = [r2, r2_adj, mse, rmse]"
   ]
  },
  {
   "cell_type": "code",
   "execution_count": 26,
   "metadata": {},
   "outputs": [
    {
     "data": {
      "text/html": [
       "<div>\n",
       "<style scoped>\n",
       "    .dataframe tbody tr th:only-of-type {\n",
       "        vertical-align: middle;\n",
       "    }\n",
       "\n",
       "    .dataframe tbody tr th {\n",
       "        vertical-align: top;\n",
       "    }\n",
       "\n",
       "    .dataframe thead th {\n",
       "        text-align: right;\n",
       "    }\n",
       "</style>\n",
       "<table border=\"1\" class=\"dataframe\">\n",
       "  <thead>\n",
       "    <tr style=\"text-align: right;\">\n",
       "      <th></th>\n",
       "      <th>r2</th>\n",
       "      <th>r2_adj</th>\n",
       "      <th>mse</th>\n",
       "      <th>rmse</th>\n",
       "    </tr>\n",
       "  </thead>\n",
       "  <tbody>\n",
       "    <tr>\n",
       "      <th>LR</th>\n",
       "      <td>0.589222</td>\n",
       "      <td>0.523120</td>\n",
       "      <td>33.448980</td>\n",
       "      <td>5.783509</td>\n",
       "    </tr>\n",
       "    <tr>\n",
       "      <th>Lasso</th>\n",
       "      <td>0.587416</td>\n",
       "      <td>0.521023</td>\n",
       "      <td>33.596095</td>\n",
       "      <td>5.796214</td>\n",
       "    </tr>\n",
       "    <tr>\n",
       "      <th>Ridge</th>\n",
       "      <td>0.583017</td>\n",
       "      <td>0.515917</td>\n",
       "      <td>33.954257</td>\n",
       "      <td>5.827028</td>\n",
       "    </tr>\n",
       "    <tr>\n",
       "      <th>LR-train</th>\n",
       "      <td>0.773014</td>\n",
       "      <td>0.764844</td>\n",
       "      <td>19.326470</td>\n",
       "      <td>4.396188</td>\n",
       "    </tr>\n",
       "    <tr>\n",
       "      <th>Lasso-train</th>\n",
       "      <td>0.772954</td>\n",
       "      <td>0.764783</td>\n",
       "      <td>19.331511</td>\n",
       "      <td>4.396761</td>\n",
       "    </tr>\n",
       "    <tr>\n",
       "      <th>Ridge-train</th>\n",
       "      <td>0.772217</td>\n",
       "      <td>0.764019</td>\n",
       "      <td>19.394302</td>\n",
       "      <td>4.403896</td>\n",
       "    </tr>\n",
       "    <tr>\n",
       "      <th>LR with Elimination by P-Value sl=0.050</th>\n",
       "      <td>0.589527</td>\n",
       "      <td>0.534182</td>\n",
       "      <td>33.424197</td>\n",
       "      <td>5.781366</td>\n",
       "    </tr>\n",
       "    <tr>\n",
       "      <th>LR with Elimination by P-Value sl=0.010</th>\n",
       "      <td>0.589527</td>\n",
       "      <td>0.534182</td>\n",
       "      <td>33.424197</td>\n",
       "      <td>5.781366</td>\n",
       "    </tr>\n",
       "    <tr>\n",
       "      <th>LR with Elimination by P-Value sl=0.005</th>\n",
       "      <td>0.579488</td>\n",
       "      <td>0.528092</td>\n",
       "      <td>34.241673</td>\n",
       "      <td>5.851639</td>\n",
       "    </tr>\n",
       "    <tr>\n",
       "      <th>LR with Elimination by P-Value sl=0.001</th>\n",
       "      <td>0.535251</td>\n",
       "      <td>0.505899</td>\n",
       "      <td>37.843770</td>\n",
       "      <td>6.151729</td>\n",
       "    </tr>\n",
       "    <tr>\n",
       "      <th>Ridge with best alpha=5.964</th>\n",
       "      <td>0.583020</td>\n",
       "      <td>0.515920</td>\n",
       "      <td>33.954036</td>\n",
       "      <td>5.827009</td>\n",
       "    </tr>\n",
       "    <tr>\n",
       "      <th>Custom FGD+Mom</th>\n",
       "      <td>0.586759</td>\n",
       "      <td>0.520260</td>\n",
       "      <td>33.649582</td>\n",
       "      <td>5.800826</td>\n",
       "    </tr>\n",
       "    <tr>\n",
       "      <th>Custom FGD</th>\n",
       "      <td>0.574024</td>\n",
       "      <td>0.505476</td>\n",
       "      <td>34.686561</td>\n",
       "      <td>5.889530</td>\n",
       "    </tr>\n",
       "    <tr>\n",
       "      <th>Custom SGD</th>\n",
       "      <td>0.572682</td>\n",
       "      <td>0.503919</td>\n",
       "      <td>34.795802</td>\n",
       "      <td>5.898797</td>\n",
       "    </tr>\n",
       "    <tr>\n",
       "      <th>Custom SGD+Mom</th>\n",
       "      <td>0.579018</td>\n",
       "      <td>0.511274</td>\n",
       "      <td>34.279877</td>\n",
       "      <td>5.854902</td>\n",
       "    </tr>\n",
       "  </tbody>\n",
       "</table>\n",
       "</div>"
      ],
      "text/plain": [
       "                                               r2    r2_adj        mse  \\\n",
       "LR                                       0.589222  0.523120  33.448980   \n",
       "Lasso                                    0.587416  0.521023  33.596095   \n",
       "Ridge                                    0.583017  0.515917  33.954257   \n",
       "LR-train                                 0.773014  0.764844  19.326470   \n",
       "Lasso-train                              0.772954  0.764783  19.331511   \n",
       "Ridge-train                              0.772217  0.764019  19.394302   \n",
       "LR with Elimination by P-Value sl=0.050  0.589527  0.534182  33.424197   \n",
       "LR with Elimination by P-Value sl=0.010  0.589527  0.534182  33.424197   \n",
       "LR with Elimination by P-Value sl=0.005  0.579488  0.528092  34.241673   \n",
       "LR with Elimination by P-Value sl=0.001  0.535251  0.505899  37.843770   \n",
       "Ridge with best alpha=5.964              0.583020  0.515920  33.954036   \n",
       "Custom FGD+Mom                           0.586759  0.520260  33.649582   \n",
       "Custom FGD                               0.574024  0.505476  34.686561   \n",
       "Custom SGD                               0.572682  0.503919  34.795802   \n",
       "Custom SGD+Mom                           0.579018  0.511274  34.279877   \n",
       "\n",
       "                                             rmse  \n",
       "LR                                       5.783509  \n",
       "Lasso                                    5.796214  \n",
       "Ridge                                    5.827028  \n",
       "LR-train                                 4.396188  \n",
       "Lasso-train                              4.396761  \n",
       "Ridge-train                              4.403896  \n",
       "LR with Elimination by P-Value sl=0.050  5.781366  \n",
       "LR with Elimination by P-Value sl=0.010  5.781366  \n",
       "LR with Elimination by P-Value sl=0.005  5.851639  \n",
       "LR with Elimination by P-Value sl=0.001  6.151729  \n",
       "Ridge with best alpha=5.964              5.827009  \n",
       "Custom FGD+Mom                           5.800826  \n",
       "Custom FGD                               5.889530  \n",
       "Custom SGD                               5.898797  \n",
       "Custom SGD+Mom                           5.854902  "
      ]
     },
     "execution_count": 26,
     "metadata": {},
     "output_type": "execute_result"
    }
   ],
   "source": [
    "quality"
   ]
  },
  {
   "cell_type": "markdown",
   "metadata": {},
   "source": [
    "It's working!!!\n",
    "\n",
    "And r2 score is quite close to statsmodels library options\n",
    "\n",
    "Let's add sklearn regression models"
   ]
  },
  {
   "cell_type": "code",
   "execution_count": 27,
   "metadata": {},
   "outputs": [],
   "source": [
    "from sklearn.linear_model import LinearRegression, Ridge, Lasso\n",
    "\n",
    "sk_model_lr = LinearRegression()\n",
    "sk_model_lr.fit(X_train_scaled, y_train)\n",
    "\n",
    "sk_model_lasso = Lasso(alpha=0.01)\n",
    "sk_model_lasso.fit(X_train_scaled, y_train)\n",
    "\n",
    "sk_model_ridge = Ridge(alpha=0.01)\n",
    "sk_model_ridge.fit(X_train_scaled, y_train)\n",
    "\n",
    "r2, r2_adj, mse, rmse = test_model(lambda X: sk_model_lr.predict(X), X_test_scaled, y_test)\n",
    "quality.loc['LR-sklearn'] = [r2, r2_adj, mse, rmse]\n",
    "r2, r2_adj, mse, rmse = test_model(lambda X: sk_model_lasso.predict(X), X_test_scaled, y_test)\n",
    "quality.loc['Lasso-sklearn'] = [r2, r2_adj, mse, rmse]\n",
    "r2, r2_adj, mse, rmse = test_model(lambda X: sk_model_ridge.predict(X), X_test_scaled, y_test)\n",
    "quality.loc['Ridge-sklearn'] = [r2, r2_adj, mse, rmse]"
   ]
  },
  {
   "cell_type": "code",
   "execution_count": 28,
   "metadata": {},
   "outputs": [
    {
     "data": {
      "text/html": [
       "<div>\n",
       "<style scoped>\n",
       "    .dataframe tbody tr th:only-of-type {\n",
       "        vertical-align: middle;\n",
       "    }\n",
       "\n",
       "    .dataframe tbody tr th {\n",
       "        vertical-align: top;\n",
       "    }\n",
       "\n",
       "    .dataframe thead th {\n",
       "        text-align: right;\n",
       "    }\n",
       "</style>\n",
       "<table border=\"1\" class=\"dataframe\">\n",
       "  <thead>\n",
       "    <tr style=\"text-align: right;\">\n",
       "      <th></th>\n",
       "      <th>r2</th>\n",
       "      <th>r2_adj</th>\n",
       "      <th>mse</th>\n",
       "      <th>rmse</th>\n",
       "    </tr>\n",
       "  </thead>\n",
       "  <tbody>\n",
       "    <tr>\n",
       "      <th>LR</th>\n",
       "      <td>0.589222</td>\n",
       "      <td>0.523120</td>\n",
       "      <td>33.448980</td>\n",
       "      <td>5.783509</td>\n",
       "    </tr>\n",
       "    <tr>\n",
       "      <th>Lasso</th>\n",
       "      <td>0.587416</td>\n",
       "      <td>0.521023</td>\n",
       "      <td>33.596095</td>\n",
       "      <td>5.796214</td>\n",
       "    </tr>\n",
       "    <tr>\n",
       "      <th>Ridge</th>\n",
       "      <td>0.583017</td>\n",
       "      <td>0.515917</td>\n",
       "      <td>33.954257</td>\n",
       "      <td>5.827028</td>\n",
       "    </tr>\n",
       "    <tr>\n",
       "      <th>LR-train</th>\n",
       "      <td>0.773014</td>\n",
       "      <td>0.764844</td>\n",
       "      <td>19.326470</td>\n",
       "      <td>4.396188</td>\n",
       "    </tr>\n",
       "    <tr>\n",
       "      <th>Lasso-train</th>\n",
       "      <td>0.772954</td>\n",
       "      <td>0.764783</td>\n",
       "      <td>19.331511</td>\n",
       "      <td>4.396761</td>\n",
       "    </tr>\n",
       "    <tr>\n",
       "      <th>Ridge-train</th>\n",
       "      <td>0.772217</td>\n",
       "      <td>0.764019</td>\n",
       "      <td>19.394302</td>\n",
       "      <td>4.403896</td>\n",
       "    </tr>\n",
       "    <tr>\n",
       "      <th>LR with Elimination by P-Value sl=0.050</th>\n",
       "      <td>0.589527</td>\n",
       "      <td>0.534182</td>\n",
       "      <td>33.424197</td>\n",
       "      <td>5.781366</td>\n",
       "    </tr>\n",
       "    <tr>\n",
       "      <th>LR with Elimination by P-Value sl=0.010</th>\n",
       "      <td>0.589527</td>\n",
       "      <td>0.534182</td>\n",
       "      <td>33.424197</td>\n",
       "      <td>5.781366</td>\n",
       "    </tr>\n",
       "    <tr>\n",
       "      <th>LR with Elimination by P-Value sl=0.005</th>\n",
       "      <td>0.579488</td>\n",
       "      <td>0.528092</td>\n",
       "      <td>34.241673</td>\n",
       "      <td>5.851639</td>\n",
       "    </tr>\n",
       "    <tr>\n",
       "      <th>LR with Elimination by P-Value sl=0.001</th>\n",
       "      <td>0.535251</td>\n",
       "      <td>0.505899</td>\n",
       "      <td>37.843770</td>\n",
       "      <td>6.151729</td>\n",
       "    </tr>\n",
       "    <tr>\n",
       "      <th>Ridge with best alpha=5.964</th>\n",
       "      <td>0.583020</td>\n",
       "      <td>0.515920</td>\n",
       "      <td>33.954036</td>\n",
       "      <td>5.827009</td>\n",
       "    </tr>\n",
       "    <tr>\n",
       "      <th>Custom FGD+Mom</th>\n",
       "      <td>0.586759</td>\n",
       "      <td>0.520260</td>\n",
       "      <td>33.649582</td>\n",
       "      <td>5.800826</td>\n",
       "    </tr>\n",
       "    <tr>\n",
       "      <th>Custom FGD</th>\n",
       "      <td>0.574024</td>\n",
       "      <td>0.505476</td>\n",
       "      <td>34.686561</td>\n",
       "      <td>5.889530</td>\n",
       "    </tr>\n",
       "    <tr>\n",
       "      <th>Custom SGD</th>\n",
       "      <td>0.572682</td>\n",
       "      <td>0.503919</td>\n",
       "      <td>34.795802</td>\n",
       "      <td>5.898797</td>\n",
       "    </tr>\n",
       "    <tr>\n",
       "      <th>Custom SGD+Mom</th>\n",
       "      <td>0.579018</td>\n",
       "      <td>0.511274</td>\n",
       "      <td>34.279877</td>\n",
       "      <td>5.854902</td>\n",
       "    </tr>\n",
       "    <tr>\n",
       "      <th>LR-sklearn</th>\n",
       "      <td>0.589222</td>\n",
       "      <td>0.523120</td>\n",
       "      <td>33.448980</td>\n",
       "      <td>5.783509</td>\n",
       "    </tr>\n",
       "    <tr>\n",
       "      <th>Lasso-sklearn</th>\n",
       "      <td>0.587476</td>\n",
       "      <td>0.521093</td>\n",
       "      <td>33.591160</td>\n",
       "      <td>5.795788</td>\n",
       "    </tr>\n",
       "    <tr>\n",
       "      <th>Ridge-sklearn</th>\n",
       "      <td>0.589211</td>\n",
       "      <td>0.523108</td>\n",
       "      <td>33.449868</td>\n",
       "      <td>5.783586</td>\n",
       "    </tr>\n",
       "  </tbody>\n",
       "</table>\n",
       "</div>"
      ],
      "text/plain": [
       "                                               r2    r2_adj        mse  \\\n",
       "LR                                       0.589222  0.523120  33.448980   \n",
       "Lasso                                    0.587416  0.521023  33.596095   \n",
       "Ridge                                    0.583017  0.515917  33.954257   \n",
       "LR-train                                 0.773014  0.764844  19.326470   \n",
       "Lasso-train                              0.772954  0.764783  19.331511   \n",
       "Ridge-train                              0.772217  0.764019  19.394302   \n",
       "LR with Elimination by P-Value sl=0.050  0.589527  0.534182  33.424197   \n",
       "LR with Elimination by P-Value sl=0.010  0.589527  0.534182  33.424197   \n",
       "LR with Elimination by P-Value sl=0.005  0.579488  0.528092  34.241673   \n",
       "LR with Elimination by P-Value sl=0.001  0.535251  0.505899  37.843770   \n",
       "Ridge with best alpha=5.964              0.583020  0.515920  33.954036   \n",
       "Custom FGD+Mom                           0.586759  0.520260  33.649582   \n",
       "Custom FGD                               0.574024  0.505476  34.686561   \n",
       "Custom SGD                               0.572682  0.503919  34.795802   \n",
       "Custom SGD+Mom                           0.579018  0.511274  34.279877   \n",
       "LR-sklearn                               0.589222  0.523120  33.448980   \n",
       "Lasso-sklearn                            0.587476  0.521093  33.591160   \n",
       "Ridge-sklearn                            0.589211  0.523108  33.449868   \n",
       "\n",
       "                                             rmse  \n",
       "LR                                       5.783509  \n",
       "Lasso                                    5.796214  \n",
       "Ridge                                    5.827028  \n",
       "LR-train                                 4.396188  \n",
       "Lasso-train                              4.396761  \n",
       "Ridge-train                              4.403896  \n",
       "LR with Elimination by P-Value sl=0.050  5.781366  \n",
       "LR with Elimination by P-Value sl=0.010  5.781366  \n",
       "LR with Elimination by P-Value sl=0.005  5.851639  \n",
       "LR with Elimination by P-Value sl=0.001  6.151729  \n",
       "Ridge with best alpha=5.964              5.827009  \n",
       "Custom FGD+Mom                           5.800826  \n",
       "Custom FGD                               5.889530  \n",
       "Custom SGD                               5.898797  \n",
       "Custom SGD+Mom                           5.854902  \n",
       "LR-sklearn                               5.783509  \n",
       "Lasso-sklearn                            5.795788  \n",
       "Ridge-sklearn                            5.783586  "
      ]
     },
     "execution_count": 28,
     "metadata": {},
     "output_type": "execute_result"
    }
   ],
   "source": [
    "quality"
   ]
  },
  {
   "cell_type": "markdown",
   "metadata": {},
   "source": [
    "It's time for graphs"
   ]
  },
  {
   "cell_type": "code",
   "execution_count": 29,
   "metadata": {},
   "outputs": [],
   "source": [
    "quality = quality.drop(['LR-train', 'Lasso-train', 'Ridge-train'])"
   ]
  },
  {
   "cell_type": "code",
   "execution_count": 30,
   "metadata": {},
   "outputs": [
    {
     "data": {
      "image/png": "[encoded data removed]",
      "text/plain": [
       "<Figure size 432x288 with 1 Axes>"
      ]
     },
     "metadata": {},
     "output_type": "display_data"
    }
   ],
   "source": [
    "label = quality.index\n",
    "r2 = quality['r2']\n",
    "sns.barplot(y=label, x=r2)\n",
    "plt.title('R2 score')\n",
    "\n",
    "plt.show()"
   ]
  },
  {
   "cell_type": "code",
   "execution_count": 31,
   "metadata": {},
   "outputs": [
    {
     "data": {
      "image/png": "[encoded data removed]",
      "text/plain": [
       "<Figure size 432x288 with 1 Axes>"
      ]
     },
     "metadata": {},
     "output_type": "display_data"
    }
   ],
   "source": [
    "r2_adj = quality['r2_adj']\n",
    "sns.barplot(y=label, x=r2_adj)\n",
    "plt.title('R2 adjusted score')\n",
    "\n",
    "plt.show()"
   ]
  },
  {
   "cell_type": "code",
   "execution_count": 32,
   "metadata": {},
   "outputs": [
    {
     "data": {
      "image/png": "[encoded data removed]",
      "text/plain": [
       "<Figure size 432x288 with 1 Axes>"
      ]
     },
     "metadata": {},
     "output_type": "display_data"
    }
   ],
   "source": [
    "rmse = quality['rmse']\n",
    "sns.barplot(y=label, x=rmse)\n",
    "plt.title('RMSE score')\n",
    "\n",
    "plt.show()"
   ]
  },
  {
   "cell_type": "markdown",
   "metadata": {},
   "source": [
    "Custom gradient descent linear regression is working and gives close to libraries options R2 and RMSE quality metrics."
   ]
  },
  {
   "cell_type": "markdown",
   "metadata": {},
   "source": [
    "#### 8. [1 points] Plot graphs (on the same picture) of the dependence of the loss function value on the iteration number for Full GD, SGD and Momentum. Draw conclusions about the rate of convergence of various modifications of gradient descent.\n",
    "\n",
    "Don't forget about what *beautiful* graphics should look like!"
   ]
  },
  {
   "cell_type": "code",
   "execution_count": 33,
   "metadata": {},
   "outputs": [
    {
     "data": {
      "image/png": "[encoded data removed]",
      "text/plain": [
       "<Figure size 504x504 with 1 Axes>"
      ]
     },
     "metadata": {},
     "output_type": "display_data"
    }
   ],
   "source": [
    "plt.figure(figsize=(7, 7))\n",
    "sns.lineplot(data=model_mom.loss_history, label='Momentum' , linewidth=3, color='goldenrod')\n",
    "sns.lineplot(data=model_grad.loss_history, label='Gradient Descent', linewidth=6, color='pink')\n",
    "sns.lineplot(data=model_sgd.loss_history, label='SGD', linewidth=5, color='limegreen', linestyle='--')\n",
    "sns.lineplot(data=model_sgd.loss_history, label='Momentum+SGD', linewidth=2, color='navy', linestyle=':')\n",
    "\n",
    "plt.show()"
   ]
  },
  {
   "cell_type": "code",
   "execution_count": 34,
   "metadata": {},
   "outputs": [
    {
     "data": {
      "image/png": "[encoded data removed]",
      "text/plain": [
       "<Figure size 432x288 with 1 Axes>"
      ]
     },
     "metadata": {},
     "output_type": "display_data"
    }
   ],
   "source": [
    "# to be sure that last 3 methods actually different\n",
    "\n",
    "sns.lineplot(data=model_mom.loss_history[:20], label='Momentum' , linewidth=3, color='goldenrod')\n",
    "sns.lineplot(data=model_grad.loss_history[:20], label='Gradient Descent', linewidth=6, color='pink')\n",
    "sns.lineplot(data=model_sgd.loss_history[:20], label='SGD', linewidth=5, color='limegreen', linestyle='--')\n",
    "sns.lineplot(data=model_sgd.loss_history[:20], label='Momentum+SGD', linewidth=2, color='navy', linestyle=':')\n",
    "\n",
    "plt.show()"
   ]
  },
  {
   "cell_type": "markdown",
   "metadata": {},
   "source": [
    "They are different, I swear\n",
    "\n",
    "**Conclusion**\n",
    "\n",
    "With best momentum (by Gridsearch) for Momentum and MomentumSGD types of gradient descent loss function for methods Full GD, SGD and Momentum + SGD decreases almost the same way, for Momentum + Full GD it decreases faster.\n",
    "SGD and Momentum + SGD are so close probably because of low momentum value"
   ]
  }
 ],
 "metadata": {
  "kernelspec": {
   "display_name": "Python 3",
   "language": "python",
   "name": "python3"
  },
  "language_info": {
   "codemirror_mode": {
    "name": "ipython",
    "version": 3
   },
   "file_extension": ".py",
   "mimetype": "text/x-python",
   "name": "python",
   "nbconvert_exporter": "python",
   "pygments_lexer": "ipython3",
   "version": "3.8.5"
  }
 },
 "nbformat": 4,
 "nbformat_minor": 2
}
